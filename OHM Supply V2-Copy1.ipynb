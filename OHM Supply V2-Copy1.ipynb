{
 "cells": [
  {
   "cell_type": "code",
   "execution_count": null,
   "id": "1bb70144",
   "metadata": {},
   "outputs": [],
   "source": [
    "import pandas as pd\n",
    "import numpy as np\n",
    "from matplotlib import pyplot as plt\n",
    "import seaborn as sns"
   ]
  },
  {
   "cell_type": "code",
   "execution_count": null,
   "id": "3f00c145",
   "metadata": {},
   "outputs": [],
   "source": [
    "from subgrounds import Subgrounds"
   ]
  },
  {
   "cell_type": "code",
   "execution_count": null,
   "id": "83da305b",
   "metadata": {},
   "outputs": [],
   "source": [
    "# initialize Subgrounds\n",
    "sg = Subgrounds()"
   ]
  },
  {
   "cell_type": "code",
   "execution_count": null,
   "id": "9d6feffa",
   "metadata": {},
   "outputs": [],
   "source": [
    "# load a subgraph\n",
    "ohm = sg.load_subgraph('https://api.thegraph.com/subgraphs/name/olympusdao/olympus-protocol-metrics')"
   ]
  },
  {
   "cell_type": "code",
   "execution_count": null,
   "id": "6630f585",
   "metadata": {},
   "outputs": [],
   "source": [
    "# create fpath\n",
    "fpath = ohm.Query.tokenSupply\n",
    "\n",
    "req = sg.mk_request([fpath])\n",
    "print(req.graphql)"
   ]
  },
  {
   "cell_type": "code",
   "execution_count": null,
   "id": "14f39ad2",
   "metadata": {},
   "outputs": [],
   "source": [
    "# examples request returning graphQL query\n",
    "req = sg.mk_request([\n",
    "    ohm.Query.tokenSupply.id,\n",
    "    ohm.Query.tokenSupply.date,\n",
    "    ohm.Query.tokenSupply.supplyBalance])\n",
    "\n",
    "print(req.graphql)"
   ]
  },
  {
   "cell_type": "code",
   "execution_count": null,
   "id": "d8aa88a3",
   "metadata": {},
   "outputs": [],
   "source": [
    "# can map fpath to a variable\n",
    "tokenSupply = ohm.Query.tokenSupply\n",
    "\n",
    "req = sg.mk_request([\n",
    "    tokenSupply.date,\n",
    "    tokenSupply.supplyBalance\n",
    "])\n",
    "\n",
    "print(req.graphql)"
   ]
  },
  {
   "cell_type": "code",
   "execution_count": null,
   "id": "df15e2f0",
   "metadata": {},
   "outputs": [],
   "source": [
    "# supply balance path\n",
    "latestSupply = ohm.Query.tokenSupply.supplyBalance\n",
    "\n",
    "req=sg.mk_request([\n",
    "    latestSupply,\n",
    "])\n",
    "\n",
    "print(req.graphql)"
   ]
  },
  {
   "cell_type": "code",
   "execution_count": null,
   "id": "1e6ba772",
   "metadata": {},
   "outputs": [],
   "source": [
    "# trying to return supply balance\n",
    "sg.query([\n",
    "    latestSupply\n",
    "])"
   ]
  },
  {
   "cell_type": "code",
   "execution_count": null,
   "id": "b687e232",
   "metadata": {},
   "outputs": [],
   "source": [
    "# providing more parameters to query. \n",
    "latestSupply = ohm.Query.tokenSupply(\n",
    "   orderBy=ohm.TokenSupply.date,\n",
    "    orderDirection='desc',\n",
    "    first=10,\n",
    "    where=[\n",
    "        ohm.TokenSupply.id==\"ID!\"\n",
    "    ]\n",
    ")\n",
    "\n",
    "req=sg.mk_request([\n",
    "    latestSupply,\n",
    "])\n",
    "\n",
    "# error returning graphql query\n",
    "print(req.graphql)"
   ]
  }
 ],
 "metadata": {
  "kernelspec": {
   "display_name": "Python 3 (ipykernel)",
   "language": "python",
   "name": "python3"
  },
  "language_info": {
   "codemirror_mode": {
    "name": "ipython",
    "version": 3
   },
   "file_extension": ".py",
   "mimetype": "text/x-python",
   "name": "python",
   "nbconvert_exporter": "python",
   "pygments_lexer": "ipython3",
   "version": "3.11.1"
  }
 },
 "nbformat": 4,
 "nbformat_minor": 5
}
