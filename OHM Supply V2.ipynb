{
 "cells": [
  {
   "cell_type": "code",
   "execution_count": 2,
   "id": "e8829f8a",
   "metadata": {},
   "outputs": [
    {
     "name": "stdout",
     "output_type": "stream",
     "text": [
      "Collecting pandas\n",
      "  Downloading pandas-1.5.2-cp311-cp311-win_amd64.whl (10.3 MB)\n",
      "     ---------------------------------------- 10.3/10.3 MB 6.1 MB/s eta 0:00:00\n",
      "Requirement already satisfied: python-dateutil>=2.8.1 in c:\\users\\klebu\\appdata\\local\\programs\\python\\python311\\lib\\site-packages (from pandas) (2.8.2)\n",
      "Collecting pytz>=2020.1\n",
      "  Downloading pytz-2022.6-py2.py3-none-any.whl (498 kB)\n",
      "     -------------------------------------- 498.1/498.1 kB 7.9 MB/s eta 0:00:00\n",
      "Collecting numpy>=1.21.0\n",
      "  Downloading numpy-1.23.5-cp311-cp311-win_amd64.whl (14.6 MB)\n",
      "     ---------------------------------------- 14.6/14.6 MB 5.8 MB/s eta 0:00:00\n",
      "Requirement already satisfied: six>=1.5 in c:\\users\\klebu\\appdata\\local\\programs\\python\\python311\\lib\\site-packages (from python-dateutil>=2.8.1->pandas) (1.16.0)\n",
      "Installing collected packages: pytz, numpy, pandas\n",
      "Successfully installed numpy-1.23.5 pandas-1.5.2 pytz-2022.6\n",
      "Note: you may need to restart the kernel to use updated packages.\n"
     ]
    }
   ],
   "source": [
    "pip install pandas"
   ]
  },
  {
   "cell_type": "code",
   "execution_count": 3,
   "id": "26cb921e",
   "metadata": {},
   "outputs": [
    {
     "name": "stdout",
     "output_type": "stream",
     "text": [
      "Requirement already satisfied: numpy in c:\\users\\klebu\\appdata\\local\\programs\\python\\python311\\lib\\site-packages (1.23.5)\n",
      "Note: you may need to restart the kernel to use updated packages.\n"
     ]
    }
   ],
   "source": [
    "pip install numpy"
   ]
  },
  {
   "cell_type": "code",
   "execution_count": 4,
   "id": "c0c59718",
   "metadata": {},
   "outputs": [
    {
     "name": "stdout",
     "output_type": "stream",
     "text": [
      "Collecting seaborn\n",
      "  Downloading seaborn-0.12.1-py3-none-any.whl (288 kB)\n",
      "     -------------------------------------- 288.2/288.2 kB 4.5 MB/s eta 0:00:00\n",
      "Requirement already satisfied: numpy>=1.17 in c:\\users\\klebu\\appdata\\local\\programs\\python\\python311\\lib\\site-packages (from seaborn) (1.23.5)\n",
      "Requirement already satisfied: pandas>=0.25 in c:\\users\\klebu\\appdata\\local\\programs\\python\\python311\\lib\\site-packages (from seaborn) (1.5.2)\n",
      "Collecting matplotlib!=3.6.1,>=3.1\n",
      "  Downloading matplotlib-3.6.2-cp311-cp311-win_amd64.whl (7.2 MB)\n",
      "     ---------------------------------------- 7.2/7.2 MB 5.7 MB/s eta 0:00:00\n",
      "Collecting contourpy>=1.0.1\n",
      "  Downloading contourpy-1.0.6-cp311-cp311-win_amd64.whl (163 kB)\n",
      "     -------------------------------------- 163.6/163.6 kB 4.9 MB/s eta 0:00:00\n",
      "Collecting cycler>=0.10\n",
      "  Downloading cycler-0.11.0-py3-none-any.whl (6.4 kB)\n",
      "Collecting fonttools>=4.22.0\n",
      "  Downloading fonttools-4.38.0-py3-none-any.whl (965 kB)\n",
      "     -------------------------------------- 965.4/965.4 kB 6.1 MB/s eta 0:00:00\n",
      "Collecting kiwisolver>=1.0.1\n",
      "  Downloading kiwisolver-1.4.4-cp311-cp311-win_amd64.whl (55 kB)\n",
      "     ---------------------------------------- 55.4/55.4 kB ? eta 0:00:00\n",
      "Requirement already satisfied: packaging>=20.0 in c:\\users\\klebu\\appdata\\local\\programs\\python\\python311\\lib\\site-packages (from matplotlib!=3.6.1,>=3.1->seaborn) (22.0)\n",
      "Collecting pillow>=6.2.0\n",
      "  Downloading Pillow-9.3.0-cp311-cp311-win_amd64.whl (2.5 MB)\n",
      "     ---------------------------------------- 2.5/2.5 MB 5.4 MB/s eta 0:00:00\n",
      "Collecting pyparsing>=2.2.1\n",
      "  Downloading pyparsing-3.0.9-py3-none-any.whl (98 kB)\n",
      "     ---------------------------------------- 98.3/98.3 kB 5.9 MB/s eta 0:00:00\n",
      "Requirement already satisfied: python-dateutil>=2.7 in c:\\users\\klebu\\appdata\\local\\programs\\python\\python311\\lib\\site-packages (from matplotlib!=3.6.1,>=3.1->seaborn) (2.8.2)\n",
      "Requirement already satisfied: pytz>=2020.1 in c:\\users\\klebu\\appdata\\local\\programs\\python\\python311\\lib\\site-packages (from pandas>=0.25->seaborn) (2022.6)\n",
      "Requirement already satisfied: six>=1.5 in c:\\users\\klebu\\appdata\\local\\programs\\python\\python311\\lib\\site-packages (from python-dateutil>=2.7->matplotlib!=3.6.1,>=3.1->seaborn) (1.16.0)\n",
      "Installing collected packages: pyparsing, pillow, kiwisolver, fonttools, cycler, contourpy, matplotlib, seaborn\n",
      "Successfully installed contourpy-1.0.6 cycler-0.11.0 fonttools-4.38.0 kiwisolver-1.4.4 matplotlib-3.6.2 pillow-9.3.0 pyparsing-3.0.9 seaborn-0.12.1\n",
      "Note: you may need to restart the kernel to use updated packages.\n"
     ]
    }
   ],
   "source": [
    "pip install seaborn "
   ]
  },
  {
   "cell_type": "code",
   "execution_count": 5,
   "id": "61ba186f",
   "metadata": {},
   "outputs": [
    {
     "name": "stdout",
     "output_type": "stream",
     "text": [
      "Requirement already satisfied: matplotlib in c:\\users\\klebu\\appdata\\local\\programs\\python\\python311\\lib\\site-packages (3.6.2)\n",
      "Requirement already satisfied: contourpy>=1.0.1 in c:\\users\\klebu\\appdata\\local\\programs\\python\\python311\\lib\\site-packages (from matplotlib) (1.0.6)\n",
      "Requirement already satisfied: cycler>=0.10 in c:\\users\\klebu\\appdata\\local\\programs\\python\\python311\\lib\\site-packages (from matplotlib) (0.11.0)\n",
      "Requirement already satisfied: fonttools>=4.22.0 in c:\\users\\klebu\\appdata\\local\\programs\\python\\python311\\lib\\site-packages (from matplotlib) (4.38.0)\n",
      "Requirement already satisfied: kiwisolver>=1.0.1 in c:\\users\\klebu\\appdata\\local\\programs\\python\\python311\\lib\\site-packages (from matplotlib) (1.4.4)\n",
      "Requirement already satisfied: numpy>=1.19 in c:\\users\\klebu\\appdata\\local\\programs\\python\\python311\\lib\\site-packages (from matplotlib) (1.23.5)\n",
      "Requirement already satisfied: packaging>=20.0 in c:\\users\\klebu\\appdata\\local\\programs\\python\\python311\\lib\\site-packages (from matplotlib) (22.0)\n",
      "Requirement already satisfied: pillow>=6.2.0 in c:\\users\\klebu\\appdata\\local\\programs\\python\\python311\\lib\\site-packages (from matplotlib) (9.3.0)\n",
      "Requirement already satisfied: pyparsing>=2.2.1 in c:\\users\\klebu\\appdata\\local\\programs\\python\\python311\\lib\\site-packages (from matplotlib) (3.0.9)\n",
      "Requirement already satisfied: python-dateutil>=2.7 in c:\\users\\klebu\\appdata\\local\\programs\\python\\python311\\lib\\site-packages (from matplotlib) (2.8.2)\n",
      "Requirement already satisfied: six>=1.5 in c:\\users\\klebu\\appdata\\local\\programs\\python\\python311\\lib\\site-packages (from python-dateutil>=2.7->matplotlib) (1.16.0)\n",
      "Note: you may need to restart the kernel to use updated packages.\n"
     ]
    }
   ],
   "source": [
    "pip install matplotlib"
   ]
  },
  {
   "cell_type": "code",
   "execution_count": 2,
   "id": "1bb70144",
   "metadata": {},
   "outputs": [],
   "source": [
    "import pandas as pd\n",
    "import numpy as np\n",
    "from matplotlib import pyplot as plt\n",
    "import seaborn as sns"
   ]
  },
  {
   "cell_type": "code",
   "execution_count": 9,
   "id": "f84ea838",
   "metadata": {},
   "outputs": [
    {
     "name": "stdout",
     "output_type": "stream",
     "text": [
      "Collecting subgrounds\n",
      "  Downloading subgrounds-1.0.3-py3-none-any.whl (56 kB)\n",
      "     ---------------------------------------- 56.4/56.4 kB 1.5 MB/s eta 0:00:00\n",
      "Requirement already satisfied: pandas<2.0.0,>=1.4.2 in c:\\users\\klebu\\appdata\\local\\programs\\python\\python311\\lib\\site-packages (from subgrounds) (1.5.2)\n",
      "Collecting pathlib<2.0.0,>=1.0.1\n",
      "  Downloading pathlib-1.0.1-py3-none-any.whl (14 kB)\n",
      "Collecting pipe<3.0,>=2.0\n",
      "  Downloading pipe-2.0-py3-none-any.whl (8.8 kB)\n",
      "Collecting pydantic<2.0.0,>=1.10.2\n",
      "  Downloading pydantic-1.10.2-cp311-cp311-win_amd64.whl (2.1 MB)\n",
      "     ---------------------------------------- 2.1/2.1 MB 3.1 MB/s eta 0:00:00\n",
      "Collecting requests<3.0.0,>=2.27.1\n",
      "  Downloading requests-2.28.1-py3-none-any.whl (62 kB)\n",
      "     ---------------------------------------- 62.8/62.8 kB 3.3 MB/s eta 0:00:00\n",
      "Requirement already satisfied: python-dateutil>=2.8.1 in c:\\users\\klebu\\appdata\\local\\programs\\python\\python311\\lib\\site-packages (from pandas<2.0.0,>=1.4.2->subgrounds) (2.8.2)\n",
      "Requirement already satisfied: pytz>=2020.1 in c:\\users\\klebu\\appdata\\local\\programs\\python\\python311\\lib\\site-packages (from pandas<2.0.0,>=1.4.2->subgrounds) (2022.6)\n",
      "Requirement already satisfied: numpy>=1.21.0 in c:\\users\\klebu\\appdata\\local\\programs\\python\\python311\\lib\\site-packages (from pandas<2.0.0,>=1.4.2->subgrounds) (1.23.5)\n",
      "Collecting typing-extensions>=4.1.0\n",
      "  Downloading typing_extensions-4.4.0-py3-none-any.whl (26 kB)\n",
      "Collecting charset-normalizer<3,>=2\n",
      "  Downloading charset_normalizer-2.1.1-py3-none-any.whl (39 kB)\n",
      "Requirement already satisfied: idna<4,>=2.5 in c:\\users\\klebu\\appdata\\local\\programs\\python\\python311\\lib\\site-packages (from requests<3.0.0,>=2.27.1->subgrounds) (3.4)\n",
      "Collecting urllib3<1.27,>=1.21.1\n",
      "  Downloading urllib3-1.26.13-py2.py3-none-any.whl (140 kB)\n",
      "     -------------------------------------- 140.6/140.6 kB 4.1 MB/s eta 0:00:00\n",
      "Collecting certifi>=2017.4.17\n",
      "  Downloading certifi-2022.12.7-py3-none-any.whl (155 kB)\n",
      "     -------------------------------------- 155.3/155.3 kB 4.7 MB/s eta 0:00:00\n",
      "Requirement already satisfied: six>=1.5 in c:\\users\\klebu\\appdata\\local\\programs\\python\\python311\\lib\\site-packages (from python-dateutil>=2.8.1->pandas<2.0.0,>=1.4.2->subgrounds) (1.16.0)\n",
      "Installing collected packages: pathlib, urllib3, typing-extensions, pipe, charset-normalizer, certifi, requests, pydantic, subgrounds\n",
      "Successfully installed certifi-2022.12.7 charset-normalizer-2.1.1 pathlib-1.0.1 pipe-2.0 pydantic-1.10.2 requests-2.28.1 subgrounds-1.0.3 typing-extensions-4.4.0 urllib3-1.26.13\n",
      "Note: you may need to restart the kernel to use updated packages.\n",
      "Collecting plotly\n",
      "  Downloading plotly-5.11.0-py2.py3-none-any.whl (15.3 MB)\n",
      "     ---------------------------------------- 15.3/15.3 MB 5.5 MB/s eta 0:00:00\n",
      "Collecting tenacity>=6.2.0\n",
      "  Downloading tenacity-8.1.0-py3-none-any.whl (23 kB)\n",
      "Installing collected packages: tenacity, plotly\n",
      "Successfully installed plotly-5.11.0 tenacity-8.1.0\n"
     ]
    }
   ],
   "source": [
    "pip install subgrounds"
   ]
  },
  {
   "cell_type": "code",
   "execution_count": 4,
   "id": "3f00c145",
   "metadata": {},
   "outputs": [],
   "source": [
    "from subgrounds import Subgrounds"
   ]
  },
  {
   "cell_type": "code",
   "execution_count": 5,
   "id": "83da305b",
   "metadata": {},
   "outputs": [],
   "source": [
    "# initialize Subgrounds\n",
    "sg = Subgrounds()"
   ]
  },
  {
   "cell_type": "code",
   "execution_count": 6,
   "id": "9d6feffa",
   "metadata": {},
   "outputs": [],
   "source": [
    "# load a subgraph\n",
    "ohm = sg.load_subgraph('https://api.thegraph.com/subgraphs/name/olympusdao/olympus-protocol-metrics')"
   ]
  },
  {
   "cell_type": "code",
   "execution_count": 7,
   "id": "6630f585",
   "metadata": {},
   "outputs": [
    {
     "name": "stdout",
     "output_type": "stream",
     "text": [
      "query {\n",
      "  tokenSupply {\n",
      "    id\n",
      "    block\n",
      "    timestamp\n",
      "    date\n",
      "    token\n",
      "    tokenAddress\n",
      "    pool\n",
      "    poolAddress\n",
      "    source\n",
      "    sourceAddress\n",
      "    type\n",
      "    balance\n",
      "    supplyBalance\n",
      "  }\n",
      "}\n"
     ]
    }
   ],
   "source": [
    "# create fpath\n",
    "fpath = ohm.Query.tokenSupply\n",
    "\n",
    "req = sg.mk_request([fpath])\n",
    "print(req.graphql)"
   ]
  },
  {
   "cell_type": "code",
   "execution_count": 8,
   "id": "14f39ad2",
   "metadata": {},
   "outputs": [
    {
     "name": "stdout",
     "output_type": "stream",
     "text": [
      "query {\n",
      "  tokenSupply {\n",
      "    id\n",
      "    date\n",
      "    supplyBalance\n",
      "  }\n",
      "}\n"
     ]
    }
   ],
   "source": [
    "# examples request returning graphQL query\n",
    "req = sg.mk_request([\n",
    "    ohm.Query.tokenSupply.id,\n",
    "    ohm.Query.tokenSupply.date,\n",
    "    ohm.Query.tokenSupply.supplyBalance])\n",
    "\n",
    "print(req.graphql)"
   ]
  },
  {
   "cell_type": "code",
   "execution_count": 9,
   "id": "d8aa88a3",
   "metadata": {},
   "outputs": [
    {
     "name": "stdout",
     "output_type": "stream",
     "text": [
      "query {\n",
      "  tokenSupply {\n",
      "    date\n",
      "    supplyBalance\n",
      "  }\n",
      "}\n"
     ]
    }
   ],
   "source": [
    "# can map fpath to a variable\n",
    "tokenSupply = ohm.Query.tokenSupply\n",
    "\n",
    "req = sg.mk_request([\n",
    "    tokenSupply.date,\n",
    "    tokenSupply.supplyBalance\n",
    "])\n",
    "\n",
    "print(req.graphql)"
   ]
  },
  {
   "cell_type": "code",
   "execution_count": 12,
   "id": "df15e2f0",
   "metadata": {},
   "outputs": [
    {
     "name": "stdout",
     "output_type": "stream",
     "text": [
      "query {\n",
      "  tokenSupply {\n",
      "    supplyBalance\n",
      "  }\n",
      "}\n"
     ]
    }
   ],
   "source": [
    "# supply balance path\n",
    "latestSupply = ohm.Query.tokenSupply.supplyBalance\n",
    "\n",
    "req=sg.mk_request([\n",
    "    latestSupply,\n",
    "])\n",
    "\n",
    "print(req.graphql)"
   ]
  },
  {
   "cell_type": "code",
   "execution_count": 16,
   "id": "1e6ba772",
   "metadata": {},
   "outputs": [
    {
     "ename": "Exception",
     "evalue": "[{'locations': [{'line': 0, 'column': 0}], 'message': 'No value provided for required argument: `id`'}]",
     "output_type": "error",
     "traceback": [
      "\u001b[1;31m---------------------------------------------------------------------------\u001b[0m",
      "\u001b[1;31mSkipPagination\u001b[0m                            Traceback (most recent call last)",
      "File \u001b[1;32m~\\AppData\\Local\\Programs\\Python\\Python311\\Lib\\site-packages\\subgrounds\\pagination\\pagination.py:72\u001b[0m, in \u001b[0;36mpaginate\u001b[1;34m(schema, doc, pagination_strategy)\u001b[0m\n\u001b[0;32m     71\u001b[0m \u001b[38;5;28;01mtry\u001b[39;00m:\n\u001b[1;32m---> 72\u001b[0m   strategy \u001b[38;5;241m=\u001b[39m \u001b[43mpagination_strategy\u001b[49m\u001b[43m(\u001b[49m\u001b[43mschema\u001b[49m\u001b[43m,\u001b[49m\u001b[43m \u001b[49m\u001b[43mdoc\u001b[49m\u001b[43m)\u001b[49m\n\u001b[0;32m     74\u001b[0m   data: \u001b[38;5;28mdict\u001b[39m[\u001b[38;5;28mstr\u001b[39m, Any] \u001b[38;5;241m=\u001b[39m {}\n",
      "File \u001b[1;32m~\\AppData\\Local\\Programs\\Python\\Python311\\Lib\\site-packages\\subgrounds\\pagination\\strategies.py:240\u001b[0m, in \u001b[0;36mLegacyStrategy.__init__\u001b[1;34m(self, schema, document)\u001b[0m\n\u001b[0;32m    239\u001b[0m \u001b[38;5;28;01mif\u001b[39;00m \u001b[38;5;28mlen\u001b[39m(pagination_nodes) \u001b[38;5;241m==\u001b[39m \u001b[38;5;241m0\u001b[39m:\n\u001b[1;32m--> 240\u001b[0m   \u001b[38;5;28;01mraise\u001b[39;00m SkipPagination\n\u001b[0;32m    242\u001b[0m \u001b[38;5;28mself\u001b[39m\u001b[38;5;241m.\u001b[39marg_generator \u001b[38;5;241m=\u001b[39m LegacyStrategyArgGenerator(pagination_nodes)\n",
      "\u001b[1;31mSkipPagination\u001b[0m: ",
      "\nDuring handling of the above exception, another exception occurred:\n",
      "\u001b[1;31mKeyError\u001b[0m                                  Traceback (most recent call last)",
      "File \u001b[1;32m~\\AppData\\Local\\Programs\\Python\\Python311\\Lib\\site-packages\\subgrounds\\client.py:165\u001b[0m, in \u001b[0;36mquery\u001b[1;34m(url, query_str, variables)\u001b[0m\n\u001b[0;32m    164\u001b[0m \u001b[38;5;28;01mtry\u001b[39;00m:\n\u001b[1;32m--> 165\u001b[0m   \u001b[38;5;28;01mreturn\u001b[39;00m \u001b[43mresp\u001b[49m\u001b[43m[\u001b[49m\u001b[38;5;124;43m'\u001b[39;49m\u001b[38;5;124;43mdata\u001b[39;49m\u001b[38;5;124;43m'\u001b[39;49m\u001b[43m]\u001b[49m\n\u001b[0;32m    166\u001b[0m \u001b[38;5;28;01mexcept\u001b[39;00m \u001b[38;5;167;01mKeyError\u001b[39;00m \u001b[38;5;28;01mas\u001b[39;00m exn:\n",
      "\u001b[1;31mKeyError\u001b[0m: 'data'",
      "\nThe above exception was the direct cause of the following exception:\n",
      "\u001b[1;31mException\u001b[0m                                 Traceback (most recent call last)",
      "Cell \u001b[1;32mIn[16], line 1\u001b[0m\n\u001b[1;32m----> 1\u001b[0m \u001b[43msg\u001b[49m\u001b[38;5;241;43m.\u001b[39;49m\u001b[43mquery\u001b[49m\u001b[43m(\u001b[49m\u001b[43m[\u001b[49m\n\u001b[0;32m      2\u001b[0m \u001b[43m    \u001b[49m\u001b[43mlatestSupply\u001b[49m\n\u001b[0;32m      3\u001b[0m \u001b[43m]\u001b[49m\u001b[43m)\u001b[49m\n",
      "File \u001b[1;32m~\\AppData\\Local\\Programs\\Python\\Python311\\Lib\\site-packages\\subgrounds\\subgrounds.py:462\u001b[0m, in \u001b[0;36mSubgrounds.query\u001b[1;34m(self, fpaths, unwrap, pagination_strategy)\u001b[0m\n\u001b[0;32m    416\u001b[0m \u001b[38;5;124;03m\"\"\"Executes one or multiple ``FieldPath`` objects immediately and return the data (as a tuple if multiple ``FieldPath`` objects are provided).\u001b[39;00m\n\u001b[0;32m    417\u001b[0m \n\u001b[0;32m    418\u001b[0m \u001b[38;5;124;03mArgs:\u001b[39;00m\n\u001b[1;32m   (...)\u001b[0m\n\u001b[0;32m    454\u001b[0m \n\u001b[0;32m    455\u001b[0m \u001b[38;5;124;03m\"\"\"\u001b[39;00m\n\u001b[0;32m    456\u001b[0m fpaths \u001b[38;5;241m=\u001b[39m \u001b[38;5;28mlist\u001b[39m(\n\u001b[0;32m    457\u001b[0m   [fpaths]\n\u001b[0;32m    458\u001b[0m   \u001b[38;5;241m|\u001b[39m traverse\n\u001b[0;32m    459\u001b[0m   \u001b[38;5;241m|\u001b[39m \u001b[38;5;28mmap\u001b[39m(FieldPath\u001b[38;5;241m.\u001b[39m_auto_select)\n\u001b[0;32m    460\u001b[0m   \u001b[38;5;241m|\u001b[39m traverse\n\u001b[0;32m    461\u001b[0m )\n\u001b[1;32m--> 462\u001b[0m blob \u001b[38;5;241m=\u001b[39m \u001b[38;5;28;43mself\u001b[39;49m\u001b[38;5;241;43m.\u001b[39;49m\u001b[43mquery_json\u001b[49m\u001b[43m(\u001b[49m\u001b[43mfpaths\u001b[49m\u001b[43m,\u001b[49m\u001b[43m \u001b[49m\u001b[43mpagination_strategy\u001b[49m\u001b[38;5;241;43m=\u001b[39;49m\u001b[43mpagination_strategy\u001b[49m\u001b[43m)\u001b[49m\n\u001b[0;32m    464\u001b[0m \u001b[38;5;28;01mdef\u001b[39;00m \u001b[38;5;21mf\u001b[39m(fpath: FieldPath) \u001b[38;5;241m-\u001b[39m\u001b[38;5;241m>\u001b[39m \u001b[38;5;28mdict\u001b[39m[\u001b[38;5;28mstr\u001b[39m, Any]:\n\u001b[0;32m    465\u001b[0m   data \u001b[38;5;241m=\u001b[39m fpath\u001b[38;5;241m.\u001b[39m_extract_data(blob)\n",
      "File \u001b[1;32m~\\AppData\\Local\\Programs\\Python\\Python311\\Lib\\site-packages\\subgrounds\\subgrounds.py:274\u001b[0m, in \u001b[0;36mSubgrounds.query_json\u001b[1;34m(self, fpaths, pagination_strategy)\u001b[0m\n\u001b[0;32m    267\u001b[0m fpaths \u001b[38;5;241m=\u001b[39m \u001b[38;5;28mlist\u001b[39m(\n\u001b[0;32m    268\u001b[0m   [fpaths]\n\u001b[0;32m    269\u001b[0m   \u001b[38;5;241m|\u001b[39m traverse\n\u001b[0;32m    270\u001b[0m   \u001b[38;5;241m|\u001b[39m \u001b[38;5;28mmap\u001b[39m(FieldPath\u001b[38;5;241m.\u001b[39m_auto_select)\n\u001b[0;32m    271\u001b[0m   \u001b[38;5;241m|\u001b[39m traverse\n\u001b[0;32m    272\u001b[0m )\n\u001b[0;32m    273\u001b[0m req \u001b[38;5;241m=\u001b[39m \u001b[38;5;28mself\u001b[39m\u001b[38;5;241m.\u001b[39mmk_request(fpaths)\n\u001b[1;32m--> 274\u001b[0m \u001b[38;5;28;01mreturn\u001b[39;00m \u001b[38;5;28;43mself\u001b[39;49m\u001b[38;5;241;43m.\u001b[39;49m\u001b[43mexecute\u001b[49m\u001b[43m(\u001b[49m\u001b[43mreq\u001b[49m\u001b[43m,\u001b[49m\u001b[43m \u001b[49m\u001b[43mpagination_strategy\u001b[49m\u001b[38;5;241;43m=\u001b[39;49m\u001b[43mpagination_strategy\u001b[49m\u001b[43m)\u001b[49m\n",
      "File \u001b[1;32m~\\AppData\\Local\\Programs\\Python\\Python311\\Lib\\site-packages\\subgrounds\\subgrounds.py:199\u001b[0m, in \u001b[0;36mSubgrounds.execute\u001b[1;34m(self, req, pagination_strategy)\u001b[0m\n\u001b[0;32m    195\u001b[0m       \u001b[38;5;28;01mreturn\u001b[39;00m transform\u001b[38;5;241m.\u001b[39mtransform_response(req, data)\n\u001b[0;32m    197\u001b[0m   \u001b[38;5;28;01massert\u001b[39;00m \u001b[38;5;28;01mFalse\u001b[39;00m  \u001b[38;5;66;03m# Suppress mypy missing return statement warning\u001b[39;00m\n\u001b[1;32m--> 199\u001b[0m \u001b[38;5;28;01mreturn\u001b[39;00m \u001b[43mtransform_req\u001b[49m\u001b[43m(\u001b[49m\u001b[38;5;28;43mself\u001b[39;49m\u001b[38;5;241;43m.\u001b[39;49m\u001b[43mglobal_transforms\u001b[49m\u001b[43m,\u001b[49m\u001b[43m \u001b[49m\u001b[43mreq\u001b[49m\u001b[43m)\u001b[49m\n",
      "File \u001b[1;32m~\\AppData\\Local\\Programs\\Python\\Python311\\Lib\\site-packages\\subgrounds\\subgrounds.py:191\u001b[0m, in \u001b[0;36mSubgrounds.execute.<locals>.transform_req\u001b[1;34m(transforms, req)\u001b[0m\n\u001b[0;32m    189\u001b[0m \u001b[38;5;28;01mmatch\u001b[39;00m transforms:\n\u001b[0;32m    190\u001b[0m   \u001b[38;5;28;01mcase\u001b[39;00m []:\n\u001b[1;32m--> 191\u001b[0m     \u001b[38;5;28;01mreturn\u001b[39;00m \u001b[38;5;28;43mlist\u001b[39;49m\u001b[43m(\u001b[49m\u001b[43mreq\u001b[49m\u001b[38;5;241;43m.\u001b[39;49m\u001b[43mdocuments\u001b[49m\u001b[43m \u001b[49m\u001b[38;5;241;43m|\u001b[39;49m\u001b[43m \u001b[49m\u001b[38;5;28;43mmap\u001b[39;49m\u001b[43m(\u001b[49m\u001b[38;5;28;43;01mlambda\u001b[39;49;00m\u001b[43m \u001b[49m\u001b[43mdoc\u001b[49m\u001b[43m:\u001b[49m\u001b[43m \u001b[49m\u001b[43mtransform_doc\u001b[49m\u001b[43m(\u001b[49m\u001b[38;5;28;43mself\u001b[39;49m\u001b[38;5;241;43m.\u001b[39;49m\u001b[43msubgraphs\u001b[49m\u001b[43m[\u001b[49m\u001b[43mdoc\u001b[49m\u001b[38;5;241;43m.\u001b[39;49m\u001b[43murl\u001b[49m\u001b[43m]\u001b[49m\u001b[38;5;241;43m.\u001b[39;49m\u001b[43m_transforms\u001b[49m\u001b[43m,\u001b[49m\u001b[43m \u001b[49m\u001b[43mdoc\u001b[49m\u001b[43m)\u001b[49m\u001b[43m)\u001b[49m\u001b[43m)\u001b[49m\n\u001b[0;32m    192\u001b[0m   \u001b[38;5;28;01mcase\u001b[39;00m [transform, \u001b[38;5;241m*\u001b[39mrest]:\n\u001b[0;32m    193\u001b[0m     new_req \u001b[38;5;241m=\u001b[39m transform\u001b[38;5;241m.\u001b[39mtransform_request(req)\n",
      "File \u001b[1;32m~\\AppData\\Local\\Programs\\Python\\Python311\\Lib\\site-packages\\subgrounds\\subgrounds.py:191\u001b[0m, in \u001b[0;36mSubgrounds.execute.<locals>.transform_req.<locals>.<lambda>\u001b[1;34m(doc)\u001b[0m\n\u001b[0;32m    189\u001b[0m \u001b[38;5;28;01mmatch\u001b[39;00m transforms:\n\u001b[0;32m    190\u001b[0m   \u001b[38;5;28;01mcase\u001b[39;00m []:\n\u001b[1;32m--> 191\u001b[0m     \u001b[38;5;28;01mreturn\u001b[39;00m \u001b[38;5;28mlist\u001b[39m(req\u001b[38;5;241m.\u001b[39mdocuments \u001b[38;5;241m|\u001b[39m \u001b[38;5;28mmap\u001b[39m(\u001b[38;5;28;01mlambda\u001b[39;00m doc: \u001b[43mtransform_doc\u001b[49m\u001b[43m(\u001b[49m\u001b[38;5;28;43mself\u001b[39;49m\u001b[38;5;241;43m.\u001b[39;49m\u001b[43msubgraphs\u001b[49m\u001b[43m[\u001b[49m\u001b[43mdoc\u001b[49m\u001b[38;5;241;43m.\u001b[39;49m\u001b[43murl\u001b[49m\u001b[43m]\u001b[49m\u001b[38;5;241;43m.\u001b[39;49m\u001b[43m_transforms\u001b[49m\u001b[43m,\u001b[49m\u001b[43m \u001b[49m\u001b[43mdoc\u001b[49m\u001b[43m)\u001b[49m))\n\u001b[0;32m    192\u001b[0m   \u001b[38;5;28;01mcase\u001b[39;00m [transform, \u001b[38;5;241m*\u001b[39mrest]:\n\u001b[0;32m    193\u001b[0m     new_req \u001b[38;5;241m=\u001b[39m transform\u001b[38;5;241m.\u001b[39mtransform_request(req)\n",
      "File \u001b[1;32m~\\AppData\\Local\\Programs\\Python\\Python311\\Lib\\site-packages\\subgrounds\\subgrounds.py:183\u001b[0m, in \u001b[0;36mSubgrounds.execute.<locals>.transform_doc\u001b[1;34m(transforms, doc)\u001b[0m\n\u001b[0;32m    181\u001b[0m   \u001b[38;5;28;01mcase\u001b[39;00m [transform, \u001b[38;5;241m*\u001b[39mrest]:\n\u001b[0;32m    182\u001b[0m     new_doc \u001b[38;5;241m=\u001b[39m transform\u001b[38;5;241m.\u001b[39mtransform_document(doc)\n\u001b[1;32m--> 183\u001b[0m     data \u001b[38;5;241m=\u001b[39m \u001b[43mtransform_doc\u001b[49m\u001b[43m(\u001b[49m\u001b[43mrest\u001b[49m\u001b[43m,\u001b[49m\u001b[43m \u001b[49m\u001b[43mnew_doc\u001b[49m\u001b[43m)\u001b[49m\n\u001b[0;32m    184\u001b[0m     \u001b[38;5;28;01mreturn\u001b[39;00m transform\u001b[38;5;241m.\u001b[39mtransform_response(doc, data)\n\u001b[0;32m    186\u001b[0m \u001b[38;5;28;01massert\u001b[39;00m \u001b[38;5;28;01mFalse\u001b[39;00m\n",
      "File \u001b[1;32m~\\AppData\\Local\\Programs\\Python\\Python311\\Lib\\site-packages\\subgrounds\\subgrounds.py:183\u001b[0m, in \u001b[0;36mSubgrounds.execute.<locals>.transform_doc\u001b[1;34m(transforms, doc)\u001b[0m\n\u001b[0;32m    181\u001b[0m   \u001b[38;5;28;01mcase\u001b[39;00m [transform, \u001b[38;5;241m*\u001b[39mrest]:\n\u001b[0;32m    182\u001b[0m     new_doc \u001b[38;5;241m=\u001b[39m transform\u001b[38;5;241m.\u001b[39mtransform_document(doc)\n\u001b[1;32m--> 183\u001b[0m     data \u001b[38;5;241m=\u001b[39m \u001b[43mtransform_doc\u001b[49m\u001b[43m(\u001b[49m\u001b[43mrest\u001b[49m\u001b[43m,\u001b[49m\u001b[43m \u001b[49m\u001b[43mnew_doc\u001b[49m\u001b[43m)\u001b[49m\n\u001b[0;32m    184\u001b[0m     \u001b[38;5;28;01mreturn\u001b[39;00m transform\u001b[38;5;241m.\u001b[39mtransform_response(doc, data)\n\u001b[0;32m    186\u001b[0m \u001b[38;5;28;01massert\u001b[39;00m \u001b[38;5;28;01mFalse\u001b[39;00m\n",
      "File \u001b[1;32m~\\AppData\\Local\\Programs\\Python\\Python311\\Lib\\site-packages\\subgrounds\\subgrounds.py:180\u001b[0m, in \u001b[0;36mSubgrounds.execute.<locals>.transform_doc\u001b[1;34m(transforms, doc)\u001b[0m\n\u001b[0;32m    178\u001b[0m \u001b[38;5;28;01mmatch\u001b[39;00m transforms:\n\u001b[0;32m    179\u001b[0m   \u001b[38;5;28;01mcase\u001b[39;00m []:\n\u001b[1;32m--> 180\u001b[0m     \u001b[38;5;28;01mreturn\u001b[39;00m \u001b[43mexecute_document\u001b[49m\u001b[43m(\u001b[49m\u001b[43mdoc\u001b[49m\u001b[43m)\u001b[49m\n\u001b[0;32m    181\u001b[0m   \u001b[38;5;28;01mcase\u001b[39;00m [transform, \u001b[38;5;241m*\u001b[39mrest]:\n\u001b[0;32m    182\u001b[0m     new_doc \u001b[38;5;241m=\u001b[39m transform\u001b[38;5;241m.\u001b[39mtransform_document(doc)\n",
      "File \u001b[1;32m~\\AppData\\Local\\Programs\\Python\\Python311\\Lib\\site-packages\\subgrounds\\subgrounds.py:172\u001b[0m, in \u001b[0;36mSubgrounds.execute.<locals>.execute_document\u001b[1;34m(doc)\u001b[0m\n\u001b[0;32m    167\u001b[0m subgraph: Subgraph \u001b[38;5;241m=\u001b[39m \u001b[38;5;28mnext\u001b[39m(\n\u001b[0;32m    168\u001b[0m   \u001b[38;5;28mself\u001b[39m\u001b[38;5;241m.\u001b[39msubgraphs\u001b[38;5;241m.\u001b[39mvalues()\n\u001b[0;32m    169\u001b[0m   \u001b[38;5;241m|\u001b[39m where(\u001b[38;5;28;01mlambda\u001b[39;00m sg: sg\u001b[38;5;241m.\u001b[39m_url \u001b[38;5;241m==\u001b[39m doc\u001b[38;5;241m.\u001b[39murl)\n\u001b[0;32m    170\u001b[0m )\n\u001b[0;32m    171\u001b[0m \u001b[38;5;28;01mif\u001b[39;00m pagination_strategy \u001b[38;5;129;01mis\u001b[39;00m \u001b[38;5;129;01mnot\u001b[39;00m \u001b[38;5;28;01mNone\u001b[39;00m \u001b[38;5;129;01mand\u001b[39;00m subgraph\u001b[38;5;241m.\u001b[39m_is_subgraph:\n\u001b[1;32m--> 172\u001b[0m   \u001b[38;5;28;01mreturn\u001b[39;00m \u001b[43mpaginate\u001b[49m\u001b[43m(\u001b[49m\u001b[43msubgraph\u001b[49m\u001b[38;5;241;43m.\u001b[39;49m\u001b[43m_schema\u001b[49m\u001b[43m,\u001b[49m\u001b[43m \u001b[49m\u001b[43mdoc\u001b[49m\u001b[43m,\u001b[49m\u001b[43m \u001b[49m\u001b[43mpagination_strategy\u001b[49m\u001b[38;5;241;43m=\u001b[39;49m\u001b[43mpagination_strategy\u001b[49m\u001b[43m)\u001b[49m\n\u001b[0;32m    173\u001b[0m \u001b[38;5;28;01melse\u001b[39;00m:\n\u001b[0;32m    174\u001b[0m   \u001b[38;5;28;01mreturn\u001b[39;00m client\u001b[38;5;241m.\u001b[39mquery(doc\u001b[38;5;241m.\u001b[39murl, doc\u001b[38;5;241m.\u001b[39mgraphql, variables\u001b[38;5;241m=\u001b[39mdoc\u001b[38;5;241m.\u001b[39mvariables)\n",
      "File \u001b[1;32m~\\AppData\\Local\\Programs\\Python\\Python311\\Lib\\site-packages\\subgrounds\\pagination\\pagination.py:94\u001b[0m, in \u001b[0;36mpaginate\u001b[1;34m(schema, doc, pagination_strategy)\u001b[0m\n\u001b[0;32m     91\u001b[0m   \u001b[38;5;28;01mreturn\u001b[39;00m data\n\u001b[0;32m     93\u001b[0m \u001b[38;5;28;01mexcept\u001b[39;00m SkipPagination:\n\u001b[1;32m---> 94\u001b[0m   \u001b[38;5;28;01mreturn\u001b[39;00m \u001b[43mclient\u001b[49m\u001b[38;5;241;43m.\u001b[39;49m\u001b[43mquery\u001b[49m\u001b[43m(\u001b[49m\u001b[43mdoc\u001b[49m\u001b[38;5;241;43m.\u001b[39;49m\u001b[43murl\u001b[49m\u001b[43m,\u001b[49m\u001b[43m \u001b[49m\u001b[43mdoc\u001b[49m\u001b[38;5;241;43m.\u001b[39;49m\u001b[43mgraphql\u001b[49m\u001b[43m,\u001b[49m\u001b[43m \u001b[49m\u001b[43mvariables\u001b[49m\u001b[38;5;241;43m=\u001b[39;49m\u001b[43mdoc\u001b[49m\u001b[38;5;241;43m.\u001b[39;49m\u001b[43mvariables\u001b[49m\u001b[43m)\u001b[49m\n",
      "File \u001b[1;32m~\\AppData\\Local\\Programs\\Python\\Python311\\Lib\\site-packages\\subgrounds\\client.py:167\u001b[0m, in \u001b[0;36mquery\u001b[1;34m(url, query_str, variables)\u001b[0m\n\u001b[0;32m    165\u001b[0m   \u001b[38;5;28;01mreturn\u001b[39;00m resp[\u001b[38;5;124m'\u001b[39m\u001b[38;5;124mdata\u001b[39m\u001b[38;5;124m'\u001b[39m]\n\u001b[0;32m    166\u001b[0m \u001b[38;5;28;01mexcept\u001b[39;00m \u001b[38;5;167;01mKeyError\u001b[39;00m \u001b[38;5;28;01mas\u001b[39;00m exn:\n\u001b[1;32m--> 167\u001b[0m   \u001b[38;5;28;01mraise\u001b[39;00m \u001b[38;5;167;01mException\u001b[39;00m(resp[\u001b[38;5;124m'\u001b[39m\u001b[38;5;124merrors\u001b[39m\u001b[38;5;124m'\u001b[39m]) \u001b[38;5;28;01mfrom\u001b[39;00m \u001b[38;5;21;01mexn\u001b[39;00m\n",
      "\u001b[1;31mException\u001b[0m: [{'locations': [{'line': 0, 'column': 0}], 'message': 'No value provided for required argument: `id`'}]"
     ]
    }
   ],
   "source": [
    "# trying to return supply balance\n",
    "sg.query([\n",
    "    latestSupply\n",
    "])"
   ]
  },
  {
   "cell_type": "code",
   "execution_count": 11,
   "id": "b687e232",
   "metadata": {},
   "outputs": [
    {
     "ename": "TypeError",
     "evalue": "arguments_of_field_args: Argument id of field tokenSupply is required but not provided!",
     "output_type": "error",
     "traceback": [
      "\u001b[1;31m---------------------------------------------------------------------------\u001b[0m",
      "\u001b[1;31mTypeError\u001b[0m                                 Traceback (most recent call last)",
      "Cell \u001b[1;32mIn[11], line 10\u001b[0m\n\u001b[0;32m      1\u001b[0m latestSupply \u001b[38;5;241m=\u001b[39m ohm\u001b[38;5;241m.\u001b[39mQuery\u001b[38;5;241m.\u001b[39mtokenSupply(\n\u001b[0;32m      2\u001b[0m    orderBy\u001b[38;5;241m=\u001b[39mohm\u001b[38;5;241m.\u001b[39mTokenSupply\u001b[38;5;241m.\u001b[39mdate,\n\u001b[0;32m      3\u001b[0m     orderDirection\u001b[38;5;241m=\u001b[39m\u001b[38;5;124m'\u001b[39m\u001b[38;5;124mdesc\u001b[39m\u001b[38;5;124m'\u001b[39m,\n\u001b[1;32m   (...)\u001b[0m\n\u001b[0;32m      7\u001b[0m     ]\n\u001b[0;32m      8\u001b[0m )\n\u001b[1;32m---> 10\u001b[0m req\u001b[38;5;241m=\u001b[39m\u001b[43msg\u001b[49m\u001b[38;5;241;43m.\u001b[39;49m\u001b[43mmk_request\u001b[49m\u001b[43m(\u001b[49m\u001b[43m[\u001b[49m\n\u001b[0;32m     11\u001b[0m \u001b[43m    \u001b[49m\u001b[43mlatestSupply\u001b[49m\u001b[43m,\u001b[49m\n\u001b[0;32m     12\u001b[0m \u001b[43m]\u001b[49m\u001b[43m)\u001b[49m\n\u001b[0;32m     14\u001b[0m \u001b[38;5;28mprint\u001b[39m(req\u001b[38;5;241m.\u001b[39mgraphql)\n",
      "File \u001b[1;32m~\\AppData\\Local\\Programs\\Python\\Python311\\Lib\\site-packages\\subgrounds\\subgrounds.py:139\u001b[0m, in \u001b[0;36mSubgrounds.mk_request\u001b[1;34m(self, fpaths)\u001b[0m\n\u001b[0;32m    122\u001b[0m \u001b[38;5;124;03m\"\"\"Creates a :class:`DataRequest` object by combining one or more\u001b[39;00m\n\u001b[0;32m    123\u001b[0m \u001b[38;5;124;03m:class:`FieldPath` objects.\u001b[39;00m\n\u001b[0;32m    124\u001b[0m \n\u001b[1;32m   (...)\u001b[0m\n\u001b[0;32m    130\u001b[0m \u001b[38;5;124;03m  DataRequest: A new :class:`DataRequest` object\u001b[39;00m\n\u001b[0;32m    131\u001b[0m \u001b[38;5;124;03m\"\"\"\u001b[39;00m\n\u001b[0;32m    132\u001b[0m fpaths \u001b[38;5;241m=\u001b[39m \u001b[38;5;28mlist\u001b[39m(\n\u001b[0;32m    133\u001b[0m   [fpaths]\n\u001b[0;32m    134\u001b[0m   \u001b[38;5;241m|\u001b[39m traverse\n\u001b[0;32m    135\u001b[0m   \u001b[38;5;241m|\u001b[39m \u001b[38;5;28mmap\u001b[39m(FieldPath\u001b[38;5;241m.\u001b[39m_auto_select)\n\u001b[0;32m    136\u001b[0m   \u001b[38;5;241m|\u001b[39m traverse\n\u001b[0;32m    137\u001b[0m )\n\u001b[1;32m--> 139\u001b[0m \u001b[38;5;28;01mreturn\u001b[39;00m DataRequest(documents\u001b[38;5;241m=\u001b[39m\u001b[38;5;28;43mlist\u001b[39;49m\u001b[43m(\u001b[49m\n\u001b[0;32m    140\u001b[0m \u001b[43m  \u001b[49m\u001b[43mfpaths\u001b[49m\n\u001b[0;32m    141\u001b[0m \u001b[43m  \u001b[49m\u001b[38;5;241;43m|\u001b[39;49m\u001b[43m \u001b[49m\u001b[43mgroupby\u001b[49m\u001b[43m(\u001b[49m\u001b[38;5;28;43;01mlambda\u001b[39;49;00m\u001b[43m \u001b[49m\u001b[43mfpath\u001b[49m\u001b[43m:\u001b[49m\u001b[43m \u001b[49m\u001b[43mfpath\u001b[49m\u001b[38;5;241;43m.\u001b[39;49m\u001b[43m_subgraph\u001b[49m\u001b[38;5;241;43m.\u001b[39;49m\u001b[43m_url\u001b[49m\u001b[43m)\u001b[49m\n\u001b[0;32m    142\u001b[0m \u001b[43m  \u001b[49m\u001b[38;5;241;43m|\u001b[39;49m\u001b[43m \u001b[49m\u001b[38;5;28;43mmap\u001b[39;49m\u001b[43m(\u001b[49m\u001b[38;5;28;43;01mlambda\u001b[39;49;00m\u001b[43m \u001b[49m\u001b[43mgroup\u001b[49m\u001b[43m:\u001b[49m\u001b[43m \u001b[49m\u001b[43mDocument\u001b[49m\u001b[43m(\u001b[49m\n\u001b[0;32m    143\u001b[0m \u001b[43m    \u001b[49m\u001b[43murl\u001b[49m\u001b[38;5;241;43m=\u001b[39;49m\u001b[43mgroup\u001b[49m\u001b[43m[\u001b[49m\u001b[38;5;241;43m0\u001b[39;49m\u001b[43m]\u001b[49m\u001b[43m,\u001b[49m\n\u001b[0;32m    144\u001b[0m \u001b[43m    \u001b[49m\u001b[43mquery\u001b[49m\u001b[38;5;241;43m=\u001b[39;49m\u001b[43mreduce\u001b[49m\u001b[43m(\u001b[49m\u001b[43mQuery\u001b[49m\u001b[38;5;241;43m.\u001b[39;49m\u001b[43madd\u001b[49m\u001b[43m,\u001b[49m\u001b[43m \u001b[49m\u001b[43mgroup\u001b[49m\u001b[43m[\u001b[49m\u001b[38;5;241;43m1\u001b[39;49m\u001b[43m]\u001b[49m\u001b[43m \u001b[49m\u001b[38;5;241;43m|\u001b[39;49m\u001b[43m \u001b[49m\u001b[38;5;28;43mmap\u001b[39;49m\u001b[43m(\u001b[49m\u001b[43mFieldPath\u001b[49m\u001b[38;5;241;43m.\u001b[39;49m\u001b[43m_selection\u001b[49m\u001b[43m)\u001b[49m\u001b[43m,\u001b[49m\u001b[43m \u001b[49m\u001b[43mQuery\u001b[49m\u001b[43m(\u001b[49m\u001b[43m)\u001b[49m\u001b[43m)\u001b[49m\n\u001b[0;32m    145\u001b[0m \u001b[43m  \u001b[49m\u001b[43m)\u001b[49m\u001b[43m)\u001b[49m\n\u001b[0;32m    146\u001b[0m \u001b[43m\u001b[49m\u001b[43m)\u001b[49m)\n",
      "File \u001b[1;32m~\\AppData\\Local\\Programs\\Python\\Python311\\Lib\\site-packages\\subgrounds\\subgrounds.py:144\u001b[0m, in \u001b[0;36mSubgrounds.mk_request.<locals>.<lambda>\u001b[1;34m(group)\u001b[0m\n\u001b[0;32m    122\u001b[0m \u001b[38;5;124;03m\"\"\"Creates a :class:`DataRequest` object by combining one or more\u001b[39;00m\n\u001b[0;32m    123\u001b[0m \u001b[38;5;124;03m:class:`FieldPath` objects.\u001b[39;00m\n\u001b[0;32m    124\u001b[0m \n\u001b[1;32m   (...)\u001b[0m\n\u001b[0;32m    130\u001b[0m \u001b[38;5;124;03m  DataRequest: A new :class:`DataRequest` object\u001b[39;00m\n\u001b[0;32m    131\u001b[0m \u001b[38;5;124;03m\"\"\"\u001b[39;00m\n\u001b[0;32m    132\u001b[0m fpaths \u001b[38;5;241m=\u001b[39m \u001b[38;5;28mlist\u001b[39m(\n\u001b[0;32m    133\u001b[0m   [fpaths]\n\u001b[0;32m    134\u001b[0m   \u001b[38;5;241m|\u001b[39m traverse\n\u001b[0;32m    135\u001b[0m   \u001b[38;5;241m|\u001b[39m \u001b[38;5;28mmap\u001b[39m(FieldPath\u001b[38;5;241m.\u001b[39m_auto_select)\n\u001b[0;32m    136\u001b[0m   \u001b[38;5;241m|\u001b[39m traverse\n\u001b[0;32m    137\u001b[0m )\n\u001b[0;32m    139\u001b[0m \u001b[38;5;28;01mreturn\u001b[39;00m DataRequest(documents\u001b[38;5;241m=\u001b[39m\u001b[38;5;28mlist\u001b[39m(\n\u001b[0;32m    140\u001b[0m   fpaths\n\u001b[0;32m    141\u001b[0m   \u001b[38;5;241m|\u001b[39m groupby(\u001b[38;5;28;01mlambda\u001b[39;00m fpath: fpath\u001b[38;5;241m.\u001b[39m_subgraph\u001b[38;5;241m.\u001b[39m_url)\n\u001b[0;32m    142\u001b[0m   \u001b[38;5;241m|\u001b[39m \u001b[38;5;28mmap\u001b[39m(\u001b[38;5;28;01mlambda\u001b[39;00m group: Document(\n\u001b[0;32m    143\u001b[0m     url\u001b[38;5;241m=\u001b[39mgroup[\u001b[38;5;241m0\u001b[39m],\n\u001b[1;32m--> 144\u001b[0m     query\u001b[38;5;241m=\u001b[39m\u001b[43mreduce\u001b[49m\u001b[43m(\u001b[49m\u001b[43mQuery\u001b[49m\u001b[38;5;241;43m.\u001b[39;49m\u001b[43madd\u001b[49m\u001b[43m,\u001b[49m\u001b[43m \u001b[49m\u001b[43mgroup\u001b[49m\u001b[43m[\u001b[49m\u001b[38;5;241;43m1\u001b[39;49m\u001b[43m]\u001b[49m\u001b[43m \u001b[49m\u001b[38;5;241;43m|\u001b[39;49m\u001b[43m \u001b[49m\u001b[38;5;28;43mmap\u001b[39;49m\u001b[43m(\u001b[49m\u001b[43mFieldPath\u001b[49m\u001b[38;5;241;43m.\u001b[39;49m\u001b[43m_selection\u001b[49m\u001b[43m)\u001b[49m\u001b[43m,\u001b[49m\u001b[43m \u001b[49m\u001b[43mQuery\u001b[49m\u001b[43m(\u001b[49m\u001b[43m)\u001b[49m\u001b[43m)\u001b[49m\n\u001b[0;32m    145\u001b[0m   ))\n\u001b[0;32m    146\u001b[0m ))\n",
      "File \u001b[1;32m~\\AppData\\Local\\Programs\\Python\\Python311\\Lib\\site-packages\\subgrounds\\subgraph\\fieldpath.py:340\u001b[0m, in \u001b[0;36mFieldPath._selection\u001b[1;34m(self)\u001b[0m\n\u001b[0;32m    336\u001b[0m       \u001b[38;5;28;01mreturn\u001b[39;00m []\n\u001b[0;32m    338\u001b[0m   \u001b[38;5;28;01massert\u001b[39;00m \u001b[38;5;28;01mFalse\u001b[39;00m  \u001b[38;5;66;03m# Suppress mypy missing return statement warning\u001b[39;00m\n\u001b[1;32m--> 340\u001b[0m \u001b[38;5;28;01mreturn\u001b[39;00m \u001b[43mf\u001b[49m\u001b[43m(\u001b[49m\u001b[38;5;28;43mself\u001b[39;49m\u001b[38;5;241;43m.\u001b[39;49m\u001b[43m_path\u001b[49m\u001b[43m)\u001b[49m[\u001b[38;5;241m0\u001b[39m]\n",
      "File \u001b[1;32m~\\AppData\\Local\\Programs\\Python\\Python311\\Lib\\site-packages\\subgrounds\\subgraph\\fieldpath.py:331\u001b[0m, in \u001b[0;36mFieldPath._selection.<locals>.f\u001b[1;34m(path)\u001b[0m\n\u001b[0;32m    324\u001b[0m   \u001b[38;5;28;01mreturn\u001b[39;00m [Selection(fmeta, selection\u001b[38;5;241m=\u001b[39mf(rest))]\n\u001b[0;32m    326\u001b[0m \u001b[38;5;28;01mcase\u001b[39;00m [(args, TypeMeta\u001b[38;5;241m.\u001b[39mFieldMeta() \u001b[38;5;28;01mas\u001b[39;00m fmeta), \u001b[38;5;241m*\u001b[39mrest]:\n\u001b[0;32m    327\u001b[0m   \u001b[38;5;28;01mreturn\u001b[39;00m [Selection(\n\u001b[0;32m    328\u001b[0m     fmeta,\n\u001b[0;32m    329\u001b[0m     \u001b[38;5;66;03m# TODO: Revisit this\u001b[39;00m\n\u001b[0;32m    330\u001b[0m     alias\u001b[38;5;241m=\u001b[39mFieldPath\u001b[38;5;241m.\u001b[39m_hash(fmeta\u001b[38;5;241m.\u001b[39mname \u001b[38;5;241m+\u001b[39m \u001b[38;5;28mstr\u001b[39m(args)),\n\u001b[1;32m--> 331\u001b[0m     arguments\u001b[38;5;241m=\u001b[39m\u001b[43marguments_of_field_args\u001b[49m\u001b[43m(\u001b[49m\u001b[38;5;28;43mself\u001b[39;49m\u001b[38;5;241;43m.\u001b[39;49m\u001b[43m_subgraph\u001b[49m\u001b[38;5;241;43m.\u001b[39;49m\u001b[43m_schema\u001b[49m\u001b[43m,\u001b[49m\u001b[43m \u001b[49m\u001b[43mfmeta\u001b[49m\u001b[43m,\u001b[49m\u001b[43m \u001b[49m\u001b[43margs\u001b[49m\u001b[43m)\u001b[49m,\n\u001b[0;32m    332\u001b[0m     selection\u001b[38;5;241m=\u001b[39mf(rest)\n\u001b[0;32m    333\u001b[0m   )]\n\u001b[0;32m    335\u001b[0m \u001b[38;5;28;01mcase\u001b[39;00m []:\n\u001b[0;32m    336\u001b[0m   \u001b[38;5;28;01mreturn\u001b[39;00m []\n",
      "File \u001b[1;32m~\\AppData\\Local\\Programs\\Python\\Python311\\Lib\\site-packages\\subgrounds\\query.py:1800\u001b[0m, in \u001b[0;36marguments_of_field_args\u001b[1;34m(schema, field, args)\u001b[0m\n\u001b[0;32m   1798\u001b[0m \u001b[38;5;28;01mmatch\u001b[39;00m field:\n\u001b[0;32m   1799\u001b[0m   \u001b[38;5;28;01mcase\u001b[39;00m TypeMeta\u001b[38;5;241m.\u001b[39mFieldMeta() \u001b[38;5;28;01mas\u001b[39;00m field:\n\u001b[1;32m-> 1800\u001b[0m     args \u001b[38;5;241m=\u001b[39m \u001b[43m[\u001b[49m\u001b[43mf\u001b[49m\u001b[43m(\u001b[49m\u001b[43marg_meta\u001b[49m\u001b[43m)\u001b[49m\u001b[43m \u001b[49m\u001b[38;5;28;43;01mfor\u001b[39;49;00m\u001b[43m \u001b[49m\u001b[43marg_meta\u001b[49m\u001b[43m \u001b[49m\u001b[38;5;129;43;01min\u001b[39;49;00m\u001b[43m \u001b[49m\u001b[43mfield\u001b[49m\u001b[38;5;241;43m.\u001b[39;49m\u001b[43marguments\u001b[49m\u001b[43m]\u001b[49m\n\u001b[0;32m   1801\u001b[0m     \u001b[38;5;28;01mreturn\u001b[39;00m \u001b[38;5;28mlist\u001b[39m(\u001b[38;5;28mfilter\u001b[39m(\u001b[38;5;28;01mlambda\u001b[39;00m arg: arg \u001b[38;5;129;01mis\u001b[39;00m \u001b[38;5;129;01mnot\u001b[39;00m \u001b[38;5;28;01mNone\u001b[39;00m, args))\n\u001b[0;32m   1802\u001b[0m   \u001b[38;5;28;01mcase\u001b[39;00m \u001b[38;5;28;01m_\u001b[39;00m:\n",
      "File \u001b[1;32m~\\AppData\\Local\\Programs\\Python\\Python311\\Lib\\site-packages\\subgrounds\\query.py:1800\u001b[0m, in \u001b[0;36m<listcomp>\u001b[1;34m(.0)\u001b[0m\n\u001b[0;32m   1798\u001b[0m \u001b[38;5;28;01mmatch\u001b[39;00m field:\n\u001b[0;32m   1799\u001b[0m   \u001b[38;5;28;01mcase\u001b[39;00m TypeMeta\u001b[38;5;241m.\u001b[39mFieldMeta() \u001b[38;5;28;01mas\u001b[39;00m field:\n\u001b[1;32m-> 1800\u001b[0m     args \u001b[38;5;241m=\u001b[39m [\u001b[43mf\u001b[49m\u001b[43m(\u001b[49m\u001b[43marg_meta\u001b[49m\u001b[43m)\u001b[49m \u001b[38;5;28;01mfor\u001b[39;00m arg_meta \u001b[38;5;129;01min\u001b[39;00m field\u001b[38;5;241m.\u001b[39marguments]\n\u001b[0;32m   1801\u001b[0m     \u001b[38;5;28;01mreturn\u001b[39;00m \u001b[38;5;28mlist\u001b[39m(\u001b[38;5;28mfilter\u001b[39m(\u001b[38;5;28;01mlambda\u001b[39;00m arg: arg \u001b[38;5;129;01mis\u001b[39;00m \u001b[38;5;129;01mnot\u001b[39;00m \u001b[38;5;28;01mNone\u001b[39;00m, args))\n\u001b[0;32m   1802\u001b[0m   \u001b[38;5;28;01mcase\u001b[39;00m \u001b[38;5;28;01m_\u001b[39;00m:\n",
      "File \u001b[1;32m~\\AppData\\Local\\Programs\\Python\\Python311\\Lib\\site-packages\\subgrounds\\query.py:1794\u001b[0m, in \u001b[0;36marguments_of_field_args.<locals>.f\u001b[1;34m(arg_meta)\u001b[0m\n\u001b[0;32m   1792\u001b[0m   \u001b[38;5;28;01mreturn\u001b[39;00m \u001b[38;5;28;01mNone\u001b[39;00m\n\u001b[0;32m   1793\u001b[0m \u001b[38;5;28;01melse\u001b[39;00m:\n\u001b[1;32m-> 1794\u001b[0m   \u001b[38;5;28;01mraise\u001b[39;00m \u001b[38;5;167;01mTypeError\u001b[39;00m(\u001b[38;5;124mf\u001b[39m\u001b[38;5;124m\"\u001b[39m\u001b[38;5;124marguments_of_field_args: Argument \u001b[39m\u001b[38;5;132;01m{\u001b[39;00marg_meta\u001b[38;5;241m.\u001b[39mname\u001b[38;5;132;01m}\u001b[39;00m\u001b[38;5;124m of field \u001b[39m\u001b[38;5;132;01m{\u001b[39;00mfield\u001b[38;5;241m.\u001b[39mname\u001b[38;5;132;01m}\u001b[39;00m\u001b[38;5;124m is required but not provided!\u001b[39m\u001b[38;5;124m\"\u001b[39m)\n",
      "\u001b[1;31mTypeError\u001b[0m: arguments_of_field_args: Argument id of field tokenSupply is required but not provided!"
     ]
    }
   ],
   "source": [
    "# providing more parameters to query. \n",
    "latestSupply = ohm.Query.tokenSupply(\n",
    "   orderBy=ohm.TokenSupply.date,\n",
    "    orderDirection='desc',\n",
    "    first=10,\n",
    "    where=[\n",
    "        ohm.TokenSupply.id==\"ID!\"\n",
    "    ]\n",
    ")\n",
    "\n",
    "req=sg.mk_request([\n",
    "    latestSupply,\n",
    "])\n",
    "\n",
    "# error returning graphql query\n",
    "print(req.graphql)"
   ]
  },
  {
   "cell_type": "code",
   "execution_count": null,
   "id": "eea9638a",
   "metadata": {},
   "outputs": [],
   "source": []
  }
 ],
 "metadata": {
  "kernelspec": {
   "display_name": "Python 3 (ipykernel)",
   "language": "python",
   "name": "python3"
  },
  "language_info": {
   "codemirror_mode": {
    "name": "ipython",
    "version": 3
   },
   "file_extension": ".py",
   "mimetype": "text/x-python",
   "name": "python",
   "nbconvert_exporter": "python",
   "pygments_lexer": "ipython3",
   "version": "3.11.1"
  }
 },
 "nbformat": 4,
 "nbformat_minor": 5
}
